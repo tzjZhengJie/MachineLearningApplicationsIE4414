{
 "cells": [
  {
   "cell_type": "code",
   "execution_count": 1,
   "metadata": {},
   "outputs": [],
   "source": [
    "#%% Libraries\n",
    "import torch"
   ]
  },
  {
   "attachments": {},
   "cell_type": "markdown",
   "metadata": {},
   "source": []
  },
  {
   "attachments": {},
   "cell_type": "markdown",
   "metadata": {},
   "source": [
    "##### Ex. 1.1: Creating a column vector I\n",
    "Use the following properties:\n",
    "* Shape of 3 x 1\n",
    "* Data type of 64-bit floating point\n",
    "* Device on CPU\n",
    "* Non-learnable parameter\n"
   ]
  },
  {
   "cell_type": "code",
   "execution_count": 3,
   "metadata": {},
   "outputs": [
    {
     "name": "stdout",
     "output_type": "stream",
     "text": [
      "tensor([[0.],\n",
      "        [0.],\n",
      "        [0.]], dtype=torch.float64)\n",
      "torch.Size([3, 1])\n"
     ]
    }
   ],
   "source": [
    "a = torch.zeros((3, 1), dtype=torch.float64, device='cpu', requires_grad=False)\n",
    "\n",
    "print(a)\n",
    "print(a.shape)\n"
   ]
  },
  {
   "attachments": {},
   "cell_type": "markdown",
   "metadata": {},
   "source": [
    "##### Ex. 1.2: Creating a column vector II"
   ]
  },
  {
   "cell_type": "code",
   "execution_count": 5,
   "metadata": {},
   "outputs": [
    {
     "name": "stdout",
     "output_type": "stream",
     "text": [
      "torch.Size([3, 1])\n"
     ]
    }
   ],
   "source": [
    "\n",
    "\n",
    "# Create the following column vector using the function torch.tensor\n",
    "# ans\n",
    "a = torch.tensor(([1],[3],[5]), dtype=torch.float32) \n",
    "\n",
    "print(a.shape)"
   ]
  },
  {
   "attachments": {},
   "cell_type": "markdown",
   "metadata": {},
   "source": [
    "##### Ex. 1.3: Creating a row vector"
   ]
  },
  {
   "cell_type": "code",
   "execution_count": 17,
   "metadata": {},
   "outputs": [
    {
     "name": "stdout",
     "output_type": "stream",
     "text": [
      "torch.Size([1, 3])\n"
     ]
    }
   ],
   "source": [
    "b = torch.tensor([[1, 3, 5]], dtype=torch.float32)\n",
    "print(b.shape)"
   ]
  },
  {
   "attachments": {},
   "cell_type": "markdown",
   "metadata": {},
   "source": [
    "##### Ex. 1.4: Creating a matrix"
   ]
  },
  {
   "cell_type": "code",
   "execution_count": 18,
   "metadata": {},
   "outputs": [
    {
     "name": "stdout",
     "output_type": "stream",
     "text": [
      "torch.Size([3, 4])\n"
     ]
    }
   ],
   "source": [
    "\n",
    "A = torch.tensor([[1,2,3,4],[5,6,7,8],[9,10,11,12]], dtype=torch.float32)\n",
    "print(A.shape)"
   ]
  },
  {
   "attachments": {},
   "cell_type": "markdown",
   "metadata": {},
   "source": [
    "##### Ex. 1.5: Creating a 3D-matrix "
   ]
  },
  {
   "cell_type": "code",
   "execution_count": 22,
   "metadata": {},
   "outputs": [
    {
     "name": "stdout",
     "output_type": "stream",
     "text": [
      "torch.Size([2, 3, 2])\n"
     ]
    }
   ],
   "source": [
    "A_ = torch.tensor([[[1,2],[5,6],[9,10]],[[3,4],[7,8],[11,12]]], dtype=torch.float)\n",
    "print(A_.shape)"
   ]
  },
  {
   "attachments": {},
   "cell_type": "markdown",
   "metadata": {},
   "source": [
    "#### Ex. 2.1: Manipulating elements\n"
   ]
  },
  {
   "attachments": {},
   "cell_type": "markdown",
   "metadata": {},
   "source": [
    "##### Ex. 2.1.1: For vector"
   ]
  },
  {
   "cell_type": "code",
   "execution_count": 25,
   "metadata": {},
   "outputs": [
    {
     "name": "stdout",
     "output_type": "stream",
     "text": [
      "tensor([[1.],\n",
      "        [0.],\n",
      "        [0.]])\n"
     ]
    }
   ],
   "source": [
    "z = torch.zeros(3,1)\n",
    "z[0] = 1\n",
    "\n",
    "print(z)"
   ]
  },
  {
   "attachments": {},
   "cell_type": "markdown",
   "metadata": {},
   "source": [
    "##### Ex. 2.1.2: For matrix"
   ]
  },
  {
   "cell_type": "code",
   "execution_count": 57,
   "metadata": {},
   "outputs": [
    {
     "name": "stdout",
     "output_type": "stream",
     "text": [
      "tensor([[0., 0., 1., 0.],\n",
      "        [0., 0., 0., 0.],\n",
      "        [0., 0., 0., 0.]])\n"
     ]
    }
   ],
   "source": [
    "Z = torch.zeros(3,4)\n",
    "Z[0, 2] = 1\n",
    "\n",
    "print(Z)"
   ]
  },
  {
   "attachments": {},
   "cell_type": "markdown",
   "metadata": {},
   "source": [
    "##### Ex. 2.1.3: For 3D matrix"
   ]
  },
  {
   "cell_type": "code",
   "execution_count": 29,
   "metadata": {},
   "outputs": [
    {
     "data": {
      "text/plain": [
       "tensor([[[0., 0., 0., 0.],\n",
       "         [0., 0., 0., 0.],\n",
       "         [0., 0., 0., 0.]],\n",
       "\n",
       "        [[0., 0., 0., 0.],\n",
       "         [0., 0., 1., 0.],\n",
       "         [0., 0., 0., 0.]]])"
      ]
     },
     "execution_count": 29,
     "metadata": {},
     "output_type": "execute_result"
    }
   ],
   "source": [
    "Z_ = torch.zeros(2, 3, 4)\n",
    "Z_[1,1,2] = 1\n",
    "Z_"
   ]
  },
  {
   "attachments": {},
   "cell_type": "markdown",
   "metadata": {},
   "source": [
    "#### Ex. 2.1.4: Slicing I"
   ]
  },
  {
   "cell_type": "code",
   "execution_count": 47,
   "metadata": {},
   "outputs": [
    {
     "name": "stdout",
     "output_type": "stream",
     "text": [
      "tensor([[0.],\n",
      "        [1.],\n",
      "        [0.]])\n"
     ]
    }
   ],
   "source": [
    "print(Z_[1,:,[2]])"
   ]
  },
  {
   "attachments": {},
   "cell_type": "markdown",
   "metadata": {},
   "source": [
    "##### Ex. 2.1.5: Slicing II"
   ]
  },
  {
   "cell_type": "code",
   "execution_count": 51,
   "metadata": {},
   "outputs": [
    {
     "name": "stdout",
     "output_type": "stream",
     "text": [
      "tensor([[0., 0.],\n",
      "        [0., 1.],\n",
      "        [0., 0.]])\n"
     ]
    }
   ],
   "source": [
    "print(Z_[1,:,[1,2]])"
   ]
  },
  {
   "attachments": {},
   "cell_type": "markdown",
   "metadata": {},
   "source": [
    "##### Ex. 2.1.6: Slicing III"
   ]
  },
  {
   "cell_type": "code",
   "execution_count": 44,
   "metadata": {},
   "outputs": [
    {
     "name": "stdout",
     "output_type": "stream",
     "text": [
      "tensor([[0., 0., 0.],\n",
      "        [0., 1., 0.],\n",
      "        [0., 0., 0.]])\n"
     ]
    }
   ],
   "source": [
    "print(Z_[1,:,[1,2,3]])"
   ]
  },
  {
   "attachments": {},
   "cell_type": "markdown",
   "metadata": {},
   "source": [
    "#### Ex. 2.2: Stacking and concatenate"
   ]
  },
  {
   "attachments": {},
   "cell_type": "markdown",
   "metadata": {},
   "source": [
    "##### Ex. 2.2.1: Stacking vectors to matrices"
   ]
  },
  {
   "cell_type": "code",
   "execution_count": 76,
   "metadata": {},
   "outputs": [
    {
     "name": "stdout",
     "output_type": "stream",
     "text": [
      "tensor([[[1., 2.]],\n",
      "\n",
      "        [[3., 4.]],\n",
      "\n",
      "        [[5., 6.]]])\n"
     ]
    }
   ],
   "source": [
    "\n",
    "a = torch.tensor([[1],[3],[5]], dtype=torch.float) \n",
    "b = torch.tensor([[2],[4],[6]], dtype=torch.float)\n",
    "\n",
    "c = torch.stack((a,b), dim=2)\n",
    "                \n",
    "print(c)"
   ]
  },
  {
   "attachments": {},
   "cell_type": "markdown",
   "metadata": {},
   "source": [
    "##### Ex. 2.2.2: Concatenate vectors"
   ]
  },
  {
   "cell_type": "code",
   "execution_count": 65,
   "metadata": {},
   "outputs": [
    {
     "data": {
      "text/plain": [
       "tensor([[1.],\n",
       "        [3.],\n",
       "        [5.],\n",
       "        [2.],\n",
       "        [4.],\n",
       "        [6.]])"
      ]
     },
     "execution_count": 65,
     "metadata": {},
     "output_type": "execute_result"
    }
   ],
   "source": [
    "\n",
    "a = torch.tensor([[1],[3],[5]], dtype=torch.float) \n",
    "b = torch.tensor([[2],[4],[6]], dtype=torch.float)\n",
    "\n",
    "c = torch.cat((a,b), dim=0)\n",
    "c"
   ]
  },
  {
   "attachments": {},
   "cell_type": "markdown",
   "metadata": {},
   "source": [
    "##### Ex. 2.3: Transpose"
   ]
  },
  {
   "attachments": {},
   "cell_type": "markdown",
   "metadata": {},
   "source": [
    "##### Ex. 2.3.1: Transpose vectors"
   ]
  },
  {
   "cell_type": "code",
   "execution_count": 80,
   "metadata": {},
   "outputs": [
    {
     "data": {
      "text/plain": [
       "tensor([[1., 3., 5.]])"
      ]
     },
     "execution_count": 80,
     "metadata": {},
     "output_type": "execute_result"
    }
   ],
   "source": [
    "a = torch.tensor([[1],[3],[5]], dtype=torch.float) \n",
    "b = torch.transpose(a,0,1)\n",
    "b"
   ]
  },
  {
   "attachments": {},
   "cell_type": "markdown",
   "metadata": {},
   "source": [
    "##### Ex. 2.3.2: Transpose II"
   ]
  },
  {
   "cell_type": "code",
   "execution_count": 84,
   "metadata": {},
   "outputs": [
    {
     "data": {
      "text/plain": [
       "tensor([[ 1.,  5.,  9.],\n",
       "        [ 2.,  6., 10.],\n",
       "        [ 3.,  7., 11.],\n",
       "        [ 4.,  8., 12.]])"
      ]
     },
     "execution_count": 84,
     "metadata": {},
     "output_type": "execute_result"
    }
   ],
   "source": [
    "A = torch.tensor([[1,2,3,4],[5,6,7,8],[9,10,11,12]], dtype=torch.float) \n",
    "B = torch.transpose(A,0,1)\n",
    "B \n"
   ]
  },
  {
   "attachments": {},
   "cell_type": "markdown",
   "metadata": {},
   "source": [
    "##### Ex. 2.3.3: Transpose III "
   ]
  },
  {
   "cell_type": "code",
   "execution_count": 92,
   "metadata": {},
   "outputs": [
    {
     "data": {
      "text/plain": [
       "tensor([[[ 1.,  5.,  9.],\n",
       "         [ 2.,  6., 10.],\n",
       "         [ 3.,  7., 11.],\n",
       "         [ 4.,  8., 12.]],\n",
       "\n",
       "        [[ 1.,  5.,  9.],\n",
       "         [ 2.,  6., 10.],\n",
       "         [ 3.,  7., 11.],\n",
       "         [ 4.,  8., 12.]]])"
      ]
     },
     "execution_count": 92,
     "metadata": {},
     "output_type": "execute_result"
    }
   ],
   "source": [
    "A_ = torch.tensor([[[1,2,3,4],[5,6,7,8],[9,10,11,12]],[[1,2,3,4],[5,6,7,8],[9,10,11,12]]], dtype=torch.float) \n",
    "\n",
    "B_ = torch.transpose(A_,1,2)\n",
    "B_"
   ]
  },
  {
   "attachments": {},
   "cell_type": "markdown",
   "metadata": {},
   "source": [
    "#### Ex. 2.4: Element-wise Multiplication"
   ]
  },
  {
   "attachments": {},
   "cell_type": "markdown",
   "metadata": {},
   "source": [
    "##### Ex. 2.4.1: Vector"
   ]
  },
  {
   "cell_type": "code",
   "execution_count": 94,
   "metadata": {},
   "outputs": [
    {
     "data": {
      "text/plain": [
       "tensor([[ 4.],\n",
       "        [ 9.],\n",
       "        [25.]])"
      ]
     },
     "execution_count": 94,
     "metadata": {},
     "output_type": "execute_result"
    }
   ],
   "source": [
    "a = torch.tensor([[2],[3],[5]], dtype=torch.float) \n",
    "b = torch.tensor([[2],[3],[5]], dtype=torch.float) \n",
    "\n",
    "c = a*b\n",
    "c"
   ]
  },
  {
   "attachments": {},
   "cell_type": "markdown",
   "metadata": {},
   "source": [
    "##### Ex. 2.4.2: Matrix"
   ]
  },
  {
   "cell_type": "code",
   "execution_count": 96,
   "metadata": {},
   "outputs": [
    {
     "data": {
      "text/plain": [
       "tensor([[ 4.,  9., 16.],\n",
       "        [25., 36., 49.]])"
      ]
     },
     "execution_count": 96,
     "metadata": {},
     "output_type": "execute_result"
    }
   ],
   "source": [
    "\n",
    "A = torch.tensor([[2,3,4],[5,6,7]], dtype=torch.float) \n",
    "B = torch.tensor([[2,3,4],[5,6,7]], dtype=torch.float) \n",
    "\n",
    "C = A*B\n",
    "C"
   ]
  },
  {
   "attachments": {},
   "cell_type": "markdown",
   "metadata": {},
   "source": [
    "##### Ex. 2.4.3: Broadcasting"
   ]
  },
  {
   "cell_type": "code",
   "execution_count": 99,
   "metadata": {},
   "outputs": [
    {
     "data": {
      "text/plain": [
       "tensor([[ 4.,  6., 10.],\n",
       "        [ 6.,  9., 15.],\n",
       "        [10., 15., 25.]])"
      ]
     },
     "execution_count": 99,
     "metadata": {},
     "output_type": "execute_result"
    }
   ],
   "source": [
    "a = torch.tensor([[2],[3],[5]], dtype=torch.float) \n",
    "b = torch.transpose(a,0,1)\n",
    "c= a*b\n",
    "c"
   ]
  },
  {
   "attachments": {},
   "cell_type": "markdown",
   "metadata": {},
   "source": [
    "##### Ex. 2.4.4: No code"
   ]
  },
  {
   "attachments": {},
   "cell_type": "markdown",
   "metadata": {},
   "source": [
    "##### Ex. 2.5.1: Matrix multiplication"
   ]
  },
  {
   "cell_type": "code",
   "execution_count": 103,
   "metadata": {},
   "outputs": [
    {
     "data": {
      "text/plain": [
       "tensor([[ 29.,  56.],\n",
       "        [ 56., 110.]])"
      ]
     },
     "execution_count": 103,
     "metadata": {},
     "output_type": "execute_result"
    }
   ],
   "source": [
    "A = torch.tensor([[2,3,4], [5,6,7]], dtype=torch.float32)\n",
    "B = torch.tensor([[2,3,4], [5,6,7]], dtype=torch.float32)\n",
    "B_ = torch.transpose(B,0,1)\n",
    "C = torch.matmul(A,B_)\n",
    "C"
   ]
  },
  {
   "attachments": {},
   "cell_type": "markdown",
   "metadata": {},
   "source": [
    "##### Ex. 2.5.2: Matrix multiplication with broadcasting \n",
    "\n"
   ]
  },
  {
   "cell_type": "code",
   "execution_count": 106,
   "metadata": {},
   "outputs": [
    {
     "data": {
      "text/plain": [
       "tensor([[[ 30.,  70., 110.],\n",
       "         [ 70., 174., 278.],\n",
       "         [110., 278., 446.]],\n",
       "\n",
       "        [[ 30.,  70., 110.],\n",
       "         [ 70., 174., 278.],\n",
       "         [110., 278., 446.]]])"
      ]
     },
     "execution_count": 106,
     "metadata": {},
     "output_type": "execute_result"
    }
   ],
   "source": [
    "A_ = torch.tensor([[[1,2,3,4],[5,6,7,8],[9,10,11,12]],[[1,2,3,4],[5,6,7,8],[9,10,11,12]]], dtype=torch.float) \n",
    "\n",
    "B = torch.tensor([[1,5,9], [2,6,10], [3,7,11],[4,8,12]], dtype=torch.float32)\n",
    "\n",
    "C_ = torch.matmul(A_,B)\n",
    "C_"
   ]
  },
  {
   "cell_type": "code",
   "execution_count": null,
   "metadata": {},
   "outputs": [],
   "source": []
  }
 ],
 "metadata": {
  "kernelspec": {
   "display_name": "Python 3 (ipykernel)",
   "language": "python",
   "name": "python3"
  },
  "language_info": {
   "codemirror_mode": {
    "name": "ipython",
    "version": 3
   },
   "file_extension": ".py",
   "mimetype": "text/x-python",
   "name": "python",
   "nbconvert_exporter": "python",
   "pygments_lexer": "ipython3",
   "version": "3.11.5"
  }
 },
 "nbformat": 4,
 "nbformat_minor": 4
}
