{
 "cells": [
  {
   "cell_type": "code",
   "execution_count": 2,
   "metadata": {},
   "outputs": [],
   "source": [
    "#%% Libraries\n",
    "import torch"
   ]
  },
  {
   "attachments": {},
   "cell_type": "markdown",
   "metadata": {},
   "source": []
  },
  {
   "attachments": {},
   "cell_type": "markdown",
   "metadata": {},
   "source": [
    "#### Ex. 1: A linear approach"
   ]
  },
  {
   "cell_type": "code",
   "execution_count": 10,
   "metadata": {},
   "outputs": [
    {
     "name": "stdout",
     "output_type": "stream",
     "text": [
      "torch.Size([2])\n",
      "torch.Size([])\n",
      "torch.Size([2])\n",
      "tensor(1.2400, grad_fn=<AddBackward0>)\n"
     ]
    }
   ],
   "source": [
    "# Ex. 1.1\n",
    "\n",
    "w = torch.tensor([0.4,0.1], requires_grad=True)\n",
    "b = torch.tensor(1.0,  requires_grad=True)\n",
    "x = torch.tensor([0.5,0.4],  requires_grad=True)\n",
    "print(w.shape)\n",
    "print(b.shape)\n",
    "print(x.shape)\n",
    "y_hat = w.T @ x+b\n",
    "print(y_hat)\n"
   ]
  },
  {
   "cell_type": "code",
   "execution_count": 11,
   "metadata": {},
   "outputs": [
    {
     "name": "stdout",
     "output_type": "stream",
     "text": [
      "tensor(1.2400, grad_fn=<AddBackward0>)\n"
     ]
    }
   ],
   "source": [
    "# Ex. 1.2\n",
    "\n",
    "class Linear(torch.nn.Module):\n",
    "    def __init__(self):\n",
    "        super().__init__() \n",
    "        w = torch.tensor([0.4,0.1], requires_grad=True)\n",
    "        b = torch.tensor(1.0,  requires_grad=True)\n",
    "        self.w = torch.nn.Parameter(w)\n",
    "        self.b = torch.nn.Parameter(b)\n",
    "\n",
    "    def forward(self, x):\n",
    "        w = self.w\n",
    "        b = self.b\n",
    "        return w.T @ x+b\n",
    "\n",
    "# call the module\n",
    "model = Linear()\n",
    "\n",
    "# apply the forward function\n",
    "x = torch.tensor([0.5,0.4])\n",
    "y_hat = model(x)\n",
    "print(y_hat) "
   ]
  },
  {
   "cell_type": "code",
   "execution_count": 12,
   "metadata": {},
   "outputs": [
    {
     "name": "stdout",
     "output_type": "stream",
     "text": [
      "tensor(3.0276, grad_fn=<PowBackward0>)\n"
     ]
    }
   ],
   "source": [
    "# Ex. 1.3\n",
    "\n",
    "y = -0.5\n",
    "def squared_error(y, y_hat):\n",
    "    return (y-y_hat)**2\n",
    "\n",
    "loss = squared_error(y, y_hat)\n",
    "print(loss)\n",
    "\n"
   ]
  },
  {
   "cell_type": "code",
   "execution_count": 13,
   "metadata": {},
   "outputs": [
    {
     "name": "stdout",
     "output_type": "stream",
     "text": [
      "Gradient of w:  tensor([1.7400, 1.3920])\n",
      "Gradient of b:  tensor(3.4800)\n"
     ]
    }
   ],
   "source": [
    "# Ex. 1.4\n",
    "\n",
    "# compute the gradients and print them\n",
    "loss.backward()\n",
    "\n",
    "# print the gradients\n",
    "print(\"Gradient of w: \", model.w.grad)\n",
    "print(\"Gradient of b: \", model.b.grad)\n"
   ]
  },
  {
   "cell_type": "code",
   "execution_count": 16,
   "metadata": {},
   "outputs": [
    {
     "name": "stdout",
     "output_type": "stream",
     "text": [
      "Gradient of w:  tensor([0.3826, 0.0861])\n",
      "Gradient of b:  tensor(0.9652)\n",
      "tensor(1.1909, grad_fn=<AddBackward0>)\n",
      "tensor(2.8593, grad_fn=<PowBackward0>)\n"
     ]
    }
   ],
   "source": [
    "# Ex. 1.5 \n",
    "\n",
    "\n",
    "learning_rate = 0.01\n",
    "\n",
    "def optimize_weights(model, learning_rate):\n",
    "    w = model.w\n",
    "    b = model.b\n",
    "    w_grad = model.w.grad\n",
    "    b_grad = model.b.grad\n",
    "\n",
    "    # update the weights here with learning rate\n",
    "    w_new = w - learning_rate * w_grad\n",
    "    b_new = b - learning_rate * b_grad\n",
    "\n",
    "    # update the model weight\n",
    "    model.w.data = w_new\n",
    "    model.b.data = b_new \n",
    "\n",
    "\n",
    "# reinitialize the model, etc\n",
    "model = Linear()\n",
    "y_hat = model(x)\n",
    "loss = squared_error(y, y_hat)\n",
    "\n",
    "# compute the gradients\n",
    "loss.backward()\n",
    "\n",
    "\n",
    "optimize_weights(model, learning_rate)\n",
    "# print the new gradients\n",
    "print(\"Gradient of w: \", model.w.data)\n",
    "print(\"Gradient of b: \", model.b.data)\n",
    "y_hat_new = model(x)\n",
    "loss_new = squared_error(y, y_hat_new)\n",
    "\n",
    "print(y_hat_new)\n",
    "print(loss_new)\n"
   ]
  },
  {
   "cell_type": "code",
   "execution_count": 18,
   "metadata": {},
   "outputs": [
    {
     "data": {
      "image/png": "[encoded data removed]",
      "text/plain": [
       "<Figure size 432x288 with 1 Axes>"
      ]
     },
     "metadata": {
      "needs_background": "light"
     },
     "output_type": "display_data"
    }
   ],
   "source": [
    "# Ex. 1.6: Training curve\n",
    "epochs = 100\n",
    "# initialize model\n",
    "model = Linear()\n",
    "learning_rate = 0.01\n",
    "losses = []\n",
    "for i in range(epochs): \n",
    "\n",
    "    # apply algorithm and obtain loss\n",
    "    y_hat = model(x)\n",
    "    loss = squared_error(y, y_hat)\n",
    "    \n",
    "    losses.append(loss.detach().item())\n",
    "\n",
    "    # zero previous gradients before computing gradient\n",
    "    model.zero_grad()\n",
    "\n",
    "    # compute gradient\n",
    "    loss.backward()\n",
    "\n",
    "    # optimize weights\n",
    "    optimize_weights(model, learning_rate)\n",
    "        \n",
    "\n",
    "from matplotlib import pyplot as plt\n",
    "import numpy as np\n",
    "fig, ax = plt.subplots(nrows=1, ncols=1)\n",
    "\n",
    "ax.plot(losses, label=learning_rate)\n",
    "ax.legend()\n",
    "ax.set_ylim(0,5) \n",
    "ax.set_ylabel(\"Loss\")\n",
    "ax.set_xlabel(\"Epochs\")\n",
    "plt.savefig(\"ex1.6.jpg\")\n",
    "plt.show()\n",
    "\n",
    "\n",
    "\n"
   ]
  },
  {
   "cell_type": "code",
   "execution_count": 19,
   "metadata": {},
   "outputs": [
    {
     "data": {
      "image/png": "[encoded data removed]",
      "text/plain": [
       "<Figure size 432x288 with 1 Axes>"
      ]
     },
     "metadata": {
      "needs_background": "light"
     },
     "output_type": "display_data"
    }
   ],
   "source": [
    "# Ex 1.7: Use different learning rate [1.0, 0.1, 0.01, 0.001, 0.0001] and plot\n",
    "\n",
    "epochs = 100\n",
    "y = -0.5\n",
    "x = torch.tensor([[0.5], [0.4]], requires_grad=False)\n",
    "learning_rates = [1.0, 0.1, 0.01, 0.001, 0.0001]\n",
    "losses_for_lr = {}\n",
    "for learning_rate in learning_rates:\n",
    "\n",
    "    model = Linear()\n",
    "    losses_for_lr[learning_rate] = []\n",
    "    for i in range(epochs): \n",
    "\n",
    "        # reinitialize the results\n",
    "        y_hat = model(x)\n",
    "        loss = squared_error(y, y_hat)\n",
    "\n",
    "        # zero previous gradients before computing gradient\n",
    "        model.zero_grad()\n",
    "\n",
    "        # compute gradient\n",
    "        loss.backward()\n",
    "        \n",
    "        losses_for_lr[learning_rate].append(loss.detach().item())\n",
    "\n",
    "        optimize_weights(model, learning_rate)\n",
    "        \n",
    "\n",
    "\n",
    "from matplotlib import pyplot as plt\n",
    "\n",
    "fig, ax = plt.subplots(nrows=1, ncols=1)\n",
    "for learning_rate, losses in losses_for_lr.items():\n",
    "    ax.plot(losses, label=learning_rate)\n",
    "ax.legend()\n",
    "ax.set_ylim(0,5) \n",
    "ax.set_title(\"Loss with different learning rate\")\n",
    "ax.set_ylabel(\"Loss\")\n",
    "ax.set_xlabel(\"Epochs\")\n",
    "plt.savefig(\"ex1.7.jpg\", dpi=600)\n",
    "plt.show()"
   ]
  },
  {
   "attachments": {},
   "cell_type": "markdown",
   "metadata": {},
   "source": [
    "### Section 2: Gradient descent"
   ]
  },
  {
   "cell_type": "code",
   "execution_count": 36,
   "metadata": {},
   "outputs": [
    {
     "name": "stdout",
     "output_type": "stream",
     "text": [
      "tensor([1.7400], grad_fn=<MulBackward0>)\n",
      "tensor(1.7400)\n",
      "tensor([3.0276], grad_fn=<PowBackward0>)\n"
     ]
    }
   ],
   "source": [
    "# Eg. 2:\n",
    "y = -0.5\n",
    "x = torch.tensor([[0.5], [0.4]], requires_grad=True)\n",
    "model = Linear()\n",
    "learning_rate = 0.01\n",
    "\n",
    "def compute_grad_w0(x_0, x_1, y, w_0, w_1, b):\n",
    "    return 2 * x_0 * (x_0 * w_0 + x_1 * w_1 + b - y)\n",
    "\n",
    "y_hat = model(x)\n",
    "loss = squared_error(y, y_hat)\n",
    "loss.backward()\n",
    "\n",
    "w_0_grad = compute_grad_w0(x[0], x[1], y, model.w[0], model.w[1], model.b)\n",
    "print(w_0_grad)\n",
    "print(model.w.grad[0])\n",
    "\n",
    "assert torch.allclose(w_0_grad, model.w.grad[0])\n",
    "\n"
   ]
  },
  {
   "cell_type": "code",
   "execution_count": 37,
   "metadata": {},
   "outputs": [
    {
     "name": "stdout",
     "output_type": "stream",
     "text": [
      "tensor([1.3920], grad_fn=<MulBackward0>)\n",
      "tensor(1.3920)\n",
      "tensor([3.0276], grad_fn=<PowBackward0>)\n"
     ]
    }
   ],
   "source": [
    "# Ex. 2:\n",
    "y = -0.5\n",
    "x = torch.tensor([[0.5], [0.4]], requires_grad=True)\n",
    "model = Linear()\n",
    "learning_rate = 0.01\n",
    "\n",
    "\n",
    "def compute_grad_w1(x_0, x_1, y, w_0, w_1, b):\n",
    "    return 2 * x_1 * (x_1 * w_1 + x_0 * w_0 + b - y)\n",
    "\n",
    "y_hat = model(x)\n",
    "loss = squared_error(y, y_hat)\n",
    "loss.backward()\n",
    "\n",
    "w_1_grad = compute_grad_w1(x[0], x[1], y, model.w[0], model.w[1], model.b)\n",
    "print(w_1_grad)\n",
    "print(model.w.grad[1])\n",
    "\n",
    "assert torch.allclose(w_1_grad, model.w.grad[1])\n"
   ]
  },
  {
   "cell_type": "code",
   "execution_count": null,
   "metadata": {},
   "outputs": [],
   "source": [
    "#error = y - y_hat\n",
    "#loss = error**2"
   ]
  }
 ],
 "metadata": {
  "kernelspec": {
   "display_name": "FinRL",
   "language": "python",
   "name": "finrl"
  },
  "language_info": {
   "codemirror_mode": {
    "name": "ipython",
    "version": 3
   },
   "file_extension": ".py",
   "mimetype": "text/x-python",
   "name": "python",
   "nbconvert_exporter": "python",
   "pygments_lexer": "ipython3",
   "version": "3.7.16"
  }
 },
 "nbformat": 4,
 "nbformat_minor": 4
}
