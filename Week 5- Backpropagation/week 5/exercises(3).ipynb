{
 "cells": [
  {
   "cell_type": "code",
   "execution_count": 1,
   "metadata": {},
   "outputs": [],
   "source": [
    "import torch\n",
    "import matplotlib.pyplot as plt\n",
    "\n",
    "\n",
    "\n",
    "class Linear(torch.nn.Module):\n",
    "    def __init__(self, w0, w1, b):\n",
    "        super().__init__()\n",
    "        w = torch.tensor([[w0],[w1]])\n",
    "        b = torch.tensor(b)\n",
    "        self.w = torch.nn.Parameter(w, requires_grad=True)\n",
    "        self.b = torch.nn.Parameter(b, requires_grad=True)\n",
    "        \n",
    "    def forward(self, x):        \n",
    "        # return self.w.T @ x + self.b\n",
    "        # x: *, 2, 1\n",
    "        # w: 2, 1\n",
    "        return self.w.T @ x  + self.b \n",
    "\n",
    "def mean_squared_error(y_hat, y):\n",
    "    return torch.mean((y_hat - y)**2)\n",
    "\n",
    "\n",
    "def relu(y_hat):\n",
    "    return torch.max(torch.zeros_like(y_hat), y_hat)\n",
    "\n",
    "def get_deriv_loss_over_error(error):\n",
    "    return 2 * error\n",
    "\n",
    "def get_deriv_error_over_output(y_hat):\n",
    "    return torch.ones_like(y_hat)\n",
    "\n"
   ]
  },
  {
   "cell_type": "code",
   "execution_count": 6,
   "metadata": {},
   "outputs": [
    {
     "name": "stdout",
     "output_type": "stream",
     "text": [
      "tensor([[-0.1900]], grad_fn=<AddBackward0>)\n",
      "tensor([[-0.2900]], grad_fn=<SubBackward0>)\n",
      "PyTorch Autograd: tensor([[-0.2900]])\n",
      "Manual computation: tensor([[-0.2900]], grad_fn=<MulBackward0>)\n",
      "Successful!\n"
     ]
    }
   ],
   "source": [
    "\n",
    "# Eg. 1.1\n",
    "\n",
    "\n",
    "x = torch.tensor([[0.5], [0.7]])        # 2, 1\n",
    "y = torch.tensor([[0.1]])               # 1, 1\n",
    "layer0_0 = Linear(0.4, -0.7, 0.1)\n",
    "y_hat = layer0_0.forward(x)             # 1, 1\n",
    "loss = mean_squared_error(y_hat, y)\n",
    "loss.backward()\n",
    "\n",
    "print(y_hat)\n",
    "\n",
    "def get_deriv_loss_over_error(error):\n",
    "    return 2 * error\n",
    "\n",
    "def get_deriv_error_over_output(y_hat):\n",
    "    return torch.ones_like(y_hat)\n",
    "\n",
    "def get_deriv_y_hat_over_w0(x):\n",
    "    return x[0:1]\n",
    "\n",
    "error = y_hat - y\n",
    "print(error)\n",
    "output = y_hat\n",
    "deriv_loss_over_error = get_deriv_loss_over_error(error)\n",
    "deriv_error_over_y_hat = get_deriv_error_over_output(output)\n",
    "deriv_y_hat_over_w0 = get_deriv_y_hat_over_w0(x)\n",
    "gradient_w0 = deriv_loss_over_error * deriv_error_over_y_hat * deriv_y_hat_over_w0\n",
    "\n",
    "ans = layer0_0.w.grad.data[0:1]\n",
    "\n",
    "print(\"PyTorch Autograd:\", ans)\n",
    "print(\"Manual computation:\", gradient_w0)\n",
    "\n",
    "assert torch.allclose(gradient_w0.data, ans), \"Your answer is incorrect. Try again :)\"\n",
    "print(\"Successful!\")"
   ]
  },
  {
   "cell_type": "code",
   "execution_count": 4,
   "metadata": {},
   "outputs": [
    {
     "name": "stdout",
     "output_type": "stream",
     "text": [
      "PyTorch Autograd: tensor([[-0.4060]])\n",
      "Manual computation: tensor([[-0.4060]], grad_fn=<MulBackward0>)\n",
      "Successful!\n"
     ]
    }
   ],
   "source": [
    "\n",
    "#Ex. 1.2:\n",
    "def get_deriv_y_hat_over_w1(x):\n",
    "    return x[1:2]\n",
    "    \n",
    "deriv_y_hat_over_w1 = get_deriv_y_hat_over_w1(x)\n",
    "gradient_w1 = deriv_loss_over_error * deriv_error_over_y_hat * deriv_y_hat_over_w1\n",
    "\n",
    "ans = layer0_0.w.grad.data[1:2]\n",
    "print(\"PyTorch Autograd:\", ans)\n",
    "print(\"Manual computation:\", gradient_w1)\n",
    "assert torch.allclose(gradient_w1.data, ans), \"Your answer is incorrect. Try again :)\"\n",
    "print(\"Successful!\")"
   ]
  },
  {
   "cell_type": "code",
   "execution_count": 10,
   "metadata": {},
   "outputs": [
    {
     "name": "stdout",
     "output_type": "stream",
     "text": [
      "PyTorch Autograd: tensor(-0.5800)\n",
      "Manual computation: tensor([[-0.5800]], grad_fn=<MulBackward0>)\n",
      "Successful!\n"
     ]
    }
   ],
   "source": [
    "#Ex. 1.3:\n",
    "def get_deriv_y_hat_over_b(x):\n",
    "    return torch.ones_like(x)[0:1]\n",
    "\n",
    "\n",
    "error = y_hat - y\n",
    "output = y_hat\n",
    "\n",
    "\n",
    "gradient_b = deriv_loss_over_error * deriv_error_over_y_hat * get_deriv_y_hat_over_b(x)\n",
    "\n",
    "ans = layer0_0.b.grad.data\n",
    "print(\"PyTorch Autograd:\", ans)\n",
    "print(\"Manual computation:\", gradient_b)\n",
    "assert torch.allclose(gradient_b.data, ans), \"Your answer is incorrect. Try again :)\"\n",
    "print(\"Successful!\")\n",
    "\n",
    "\n",
    "\n"
   ]
  },
  {
   "cell_type": "code",
   "execution_count": 20,
   "metadata": {},
   "outputs": [
    {
     "name": "stdout",
     "output_type": "stream",
     "text": [
      "tensor([[0.]], grad_fn=<MaximumBackward0>)\n",
      "tensor([[-0.1900]], grad_fn=<AddBackward0>)\n",
      "tensor([[1.]])\n",
      "tensor([[-0.2000]], grad_fn=<MulBackward0>)\n",
      "tensor([[False]])\n",
      "tensor([[0.5000]])\n",
      "PyTorch Autograd: tensor([[0.]])\n",
      "Manual computation: tensor([[-0.]], grad_fn=<MulBackward0>)\n",
      "Successful!\n"
     ]
    },
    {
     "data": {
      "image/png": "[encoded data removed]",
      "text/plain": [
       "<Figure size 432x288 with 1 Axes>"
      ]
     },
     "metadata": {
      "needs_background": "light"
     },
     "output_type": "display_data"
    }
   ],
   "source": [
    "#Ex. 1.4\n",
    "def relu(y_hat):\n",
    "    return torch.max(torch.zeros_like(y_hat), y_hat) #max(0, y_hat)\n",
    "\n",
    "x = torch.tensor([[0.5], [0.7]])        # 2, 1\n",
    "y = torch.tensor([[0.1]])               # 1, 1\n",
    "\n",
    "layer0_0 = Linear(0.4, -0.7, 0.1)\n",
    "y_hat = layer0_0.forward(x)             # 1, 1\n",
    "z = relu(y_hat)\n",
    "loss = mean_squared_error(z, y)\n",
    "loss.backward()\n",
    "\n",
    "def get_deriv_relu(y_hat):\n",
    "    return y_hat > 0 \n",
    "\n",
    "error = z-y\n",
    "output = z\n",
    "\n",
    "\n",
    "def get_deriv_y_hat_over_w0(x):\n",
    "    return x[0:1]\n",
    "\n",
    "def get_deriv_error_over_z(output):\n",
    "    return torch.ones_like(output)\n",
    "\n",
    "def get_deriv_z_over_y_hat(y_hat):\n",
    "    return get_deriv_relu(y_hat)\n",
    "\n",
    "deriv_error_over_z = get_deriv_error_over_z(output)\n",
    "deriv_y_hat_over_w0 = get_deriv_y_hat_over_w0(x)\n",
    "deriv_z_over_y_hat = get_deriv_z_over_y_hat(y_hat)\n",
    "\n",
    "\n",
    "print(output)\n",
    "print(y_hat)\n",
    "print(deriv_error_over_z)\n",
    "\n",
    "# Compute the derivative of the loss with respect to the error\n",
    "deriv_loss_over_error = 2 * error\n",
    "print(deriv_loss_over_error)\n",
    "print(deriv_z_over_y_hat)\n",
    "print(deriv_y_hat_over_w0)\n",
    "\n",
    "gradient_w0 = deriv_loss_over_error * deriv_error_over_z * deriv_z_over_y_hat * deriv_y_hat_over_w0\n",
    "\n",
    "print(\"PyTorch Autograd:\", layer0_0.w.grad.data[0:1])\n",
    "print(\"Manual computation:\", gradient_w0)\n",
    "\n",
    "assert torch.allclose(gradient_w0.data,layer0_0.w.grad.data[0:1]),\"Your answer is incorrect. Try again :)\"\n",
    "print(\"Successful!\")\n",
    "\n",
    "xaxis = torch.linspace(-10, 10, steps=1000)\n",
    "plt.plot(xaxis, get_deriv_relu(xaxis))\n",
    "plt.title(\"Derivative of Sigmoid\")\n",
    "plt.xlabel(\"y_hat\")\n",
    "plt.show()"
   ]
  },
  {
   "cell_type": "code",
   "execution_count": 27,
   "metadata": {},
   "outputs": [
    {
     "name": "stdout",
     "output_type": "stream",
     "text": [
      "tensor([[0.7053]], grad_fn=<MulBackward0>)\n",
      "tensor([[False]])\n",
      "tensor([[0.5000]])\n",
      "tensor([[0.2478]], grad_fn=<DivBackward0>)\n",
      "PyTorch Autograd: tensor([[0.0874]])\n",
      "Manual computation: tensor([[0.0874]], grad_fn=<MulBackward0>)\n",
      "Successful!\n"
     ]
    },
    {
     "data": {
      "image/png": "[encoded data removed]",
      "text/plain": [
       "<Figure size 432x288 with 1 Axes>"
      ]
     },
     "metadata": {
      "needs_background": "light"
     },
     "output_type": "display_data"
    }
   ],
   "source": [
    "# Ex. 1.4.1 (optional):\n",
    "\n",
    "def sigmoid(y_hat):\n",
    "    return 1 / (1+torch.exp(-1 * y_hat))\n",
    "\n",
    "layer0_0 = Linear(0.4, -0.7, 0.1)\n",
    "y_hat = layer0_0.forward(x)             # 1, 1\n",
    "z = sigmoid(y_hat)\n",
    "loss = mean_squared_error(z, y)\n",
    "loss.backward()\n",
    "\n",
    "def get_deriv_sigmoid(y_hat):\n",
    "    return torch.exp(-y_hat) / (1 + torch.exp(-y_hat))**2\n",
    "    #return z * (1-z)\n",
    "\n",
    "error = z-y\n",
    "output = z\n",
    "\n",
    "deriv_sigmoid = get_deriv_sigmoid(y_hat)\n",
    "deriv_loss_over_error = 2 * error\n",
    "deriv_error_over_z = get_deriv_error_over_z(output)\n",
    "deriv_y_hat_over_w0 = get_deriv_y_hat_over_w0(x)\n",
    "\n",
    "gradient_w0 = deriv_loss_over_error * deriv_error_over_z * deriv_sigmoid * deriv_y_hat_over_w0\n",
    "\n",
    "print(deriv_loss_over_error)\n",
    "print(deriv_z_over_y_hat)\n",
    "print(deriv_y_hat_over_w0)\n",
    "print(deriv_sigmoid)\n",
    "\n",
    "\n",
    "print(\"PyTorch Autograd:\", layer0_0.w.grad.data[0:1])\n",
    "print(\"Manual computation:\", gradient_w0)\n",
    "\n",
    "assert torch.allclose(gradient_w0.data, layer0_0.w.grad.data[0:1])\n",
    "print(\"Successful!\")\n",
    "\n",
    "\n",
    "xaxis = torch.linspace(-10, 10, steps=1000)\n",
    "plt.plot(xaxis, get_deriv_sigmoid(xaxis))\n",
    "plt.title(\"Derivative of Sigmoid\")\n",
    "plt.xlabel(\"y_hat\")\n",
    "plt.show()\n"
   ]
  },
  {
   "cell_type": "code",
   "execution_count": 28,
   "metadata": {},
   "outputs": [
    {
     "name": "stdout",
     "output_type": "stream",
     "text": [
      "PyTorch Autograd: tensor([[-0.4665]])\n",
      "Manual computation: tensor([[-0.4665]], grad_fn=<MulBackward0>)\n",
      "Successful!\n"
     ]
    }
   ],
   "source": [
    "\n",
    "#Eg. 1.5: \n",
    "\n",
    "class TwoLayerNN(torch.nn.Module):\n",
    "\n",
    "    def __init__(self):\n",
    "        super().__init__()\n",
    "        self.layer0_0 = Linear(0.8, -0.5, 0.5)\n",
    "        self.layer0_1 = Linear(-0.3, -0.1, -0.2)\n",
    "        self.layer1 = Linear(-0.5, -0.4, -0.8)\n",
    "    def forward(self, x):\n",
    "\n",
    "        # x: *, 2, 1\n",
    "        y_hat0_l0 = self.layer0_0.forward(x) \n",
    "        y_hat1_l0 = self.layer0_1.forward(x) \n",
    "\n",
    "        # y_hat0_0: *, 1, 1\n",
    "        # y_hat0_1: *, 1, 1\n",
    "        z_0 = relu(y_hat0_l0) \n",
    "        z_1 = relu(y_hat1_l0)\n",
    "\n",
    "        # z_0: *, 1, 1\n",
    "        # z_1: *, 1, 1\n",
    "        \n",
    "        z = torch.cat([z_0, z_1], dim=-2)\n",
    "        \n",
    "        # z: *, 2, 1\n",
    "        # print(z.shape)\n",
    "        y_hat = self.layer1.forward(z)\n",
    "\n",
    "        return y_hat, y_hat0_l0, y_hat1_l0\n",
    "\n",
    "x = torch.tensor([[-0.5], [-0.7]])        # 2, 1\n",
    "y = torch.tensor([[-0.1]])               # 1, 1\n",
    "model = TwoLayerNN()\n",
    "y_hat, y_hat0_l0, y_hat1_l0 = model.forward(x)             # 1, 1\n",
    "loss = mean_squared_error(y_hat, y)\n",
    "loss.backward()\n",
    "\n",
    "# x = torch.tensor([[0.5], [0.7]])        # 2, 1\n",
    "# y = torch.tensor([[0.1]])               # 1, 1\n",
    "\n",
    "\n",
    "def get_deriv_y_hat_over_z0(w):\n",
    "    return w[0:1]\n",
    "\n",
    "def get_deriv_relu(x):\n",
    "    return x>0\n",
    "\n",
    "error = y_hat-y\n",
    "output = y_hat\n",
    "deriv_loss_over_error = get_deriv_loss_over_error(error)\n",
    "deriv_error_over_output = get_deriv_error_over_output(output)\n",
    "deriv_y_hat_over_z0 = get_deriv_y_hat_over_z0(model.layer1.w)\n",
    "deriv_z0_over_y_hat0_l0 = get_deriv_relu(y_hat0_l0)\n",
    "deriv_y_hat0_l0_over_w0_0_l0 = get_deriv_y_hat_over_w0(x) \n",
    "\n",
    "\n",
    "# deriv_z_over_y_hat = get_deriv_relu(y_hat)\n",
    "gradient_w_0_0_l0 = deriv_loss_over_error * deriv_error_over_output * deriv_y_hat_over_z0 \\\n",
    "    * deriv_z0_over_y_hat0_l0 * deriv_y_hat0_l0_over_w0_0_l0\n",
    "\n",
    "\n",
    "print(\"PyTorch Autograd:\", model.layer0_0.w.grad.data[0:1])\n",
    "print(\"Manual computation:\", gradient_w_0_0_l0)\n",
    "\n",
    "assert torch.allclose(gradient_w_0_0_l0.data, model.layer0_0.w.grad.data[0:1])\n",
    "print(\"Successful!\")\n",
    "\n",
    "\n"
   ]
  },
  {
   "cell_type": "code",
   "execution_count": 31,
   "metadata": {},
   "outputs": [
    {
     "name": "stdout",
     "output_type": "stream",
     "text": [
      "PyTorch Autograd: tensor([[-0.3732]])\n",
      "Manual computation: tensor([[-0.3732]], grad_fn=<MulBackward0>)\n",
      "Successful!\n"
     ]
    }
   ],
   "source": [
    "# Ex. 1.6:\n",
    "\n",
    "def get_deriv_y_hat_over_z1(w):\n",
    "    return w[1:2]\n",
    "\n",
    "\n",
    "derive_y_hat1_l0_over_w0_0_l1 = get_deriv_y_hat_over_w0(x) #y_hat1_l0_over_w0_0_l1\n",
    "deriv_z1_over_y_hat1_l0 = get_deriv_relu(y_hat1_l0)\n",
    "deriv_y_hat_over_z1 = get_deriv_y_hat_over_z1(model.layer1.w)\n",
    "deriv_error_over_output = get_deriv_error_over_output(output)\n",
    "deriv_loss_over_error = get_deriv_loss_over_error(error)\n",
    "\n",
    "gradient_w_0_1_l0 = deriv_loss_over_error * deriv_error_over_output * deriv_y_hat_over_z1 \\\n",
    "    * deriv_z1_over_y_hat1_l0 * derive_y_hat1_l0_over_w0_0_l1\n",
    "\n",
    "ans = model.layer0_1.w.grad.data[0:1]\n",
    "print(\"PyTorch Autograd:\", ans)\n",
    "print(\"Manual computation:\", gradient_w_0_1_l0)\n",
    "\n",
    "assert torch.allclose(gradient_w_0_1_l0.data, ans)\n",
    "print(\"Successful!\")\n"
   ]
  },
  {
   "cell_type": "code",
   "execution_count": null,
   "metadata": {},
   "outputs": [],
   "source": []
  }
 ],
 "metadata": {
  "kernelspec": {
   "display_name": "base",
   "language": "python",
   "name": "python3"
  },
  "language_info": {
   "codemirror_mode": {
    "name": "ipython",
    "version": 3
   },
   "file_extension": ".py",
   "mimetype": "text/x-python",
   "name": "python",
   "nbconvert_exporter": "python",
   "pygments_lexer": "ipython3",
   "version": "3.7.16"
  },
  "orig_nbformat": 4
 },
 "nbformat": 4,
 "nbformat_minor": 2
}
